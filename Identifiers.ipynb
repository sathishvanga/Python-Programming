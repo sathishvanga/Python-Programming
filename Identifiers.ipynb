{
 "cells": [
  {
   "cell_type": "markdown",
   "id": "1b62a9a9",
   "metadata": {},
   "source": [
    "# Identifiers\n",
    "\n",
    "#### Rules for Identifiers : "
   ]
  },
  {
   "cell_type": "markdown",
   "id": "54b003f2",
   "metadata": {},
   "source": [
    "Variable name should start with \n",
    "* [A-Z]\n",
    "* [a-z]\n",
    "* [0-9] \n",
    "* [ _ (Underscore)]\n",
    "\n",
    "Variable name shouldn't start with a digit\n",
    "\n",
    "Don't's are \n",
    "* Don't use the Special Characters as variable names\n",
    "* Don't use the spaces in the variable name"
   ]
  },
  {
   "cell_type": "markdown",
   "id": "ddc2c644",
   "metadata": {},
   "source": [
    "Examples : "
   ]
  },
  {
   "cell_type": "code",
   "execution_count": 2,
   "id": "53b8a888",
   "metadata": {},
   "outputs": [],
   "source": [
    "name = \"Sathish\""
   ]
  },
  {
   "cell_type": "code",
   "execution_count": 3,
   "id": "3fa320c8",
   "metadata": {},
   "outputs": [
    {
     "data": {
      "text/plain": [
       "'Sathish'"
      ]
     },
     "execution_count": 3,
     "metadata": {},
     "output_type": "execute_result"
    }
   ],
   "source": [
    "name"
   ]
  },
  {
   "cell_type": "code",
   "execution_count": 4,
   "id": "8340ce81",
   "metadata": {},
   "outputs": [
    {
     "data": {
      "text/plain": [
       "25"
      ]
     },
     "execution_count": 4,
     "metadata": {},
     "output_type": "execute_result"
    }
   ],
   "source": [
    "Age = 25\n",
    "Age\n"
   ]
  },
  {
   "cell_type": "code",
   "execution_count": 5,
   "id": "f6a8cc77",
   "metadata": {},
   "outputs": [
    {
     "data": {
      "text/plain": [
       "151"
      ]
     },
     "execution_count": 5,
     "metadata": {},
     "output_type": "execute_result"
    }
   ],
   "source": [
    "HeIGHT1 = 151\n",
    "HeIGHT1"
   ]
  },
  {
   "cell_type": "code",
   "execution_count": 8,
   "id": "754b0c44",
   "metadata": {},
   "outputs": [
    {
     "ename": "SyntaxError",
     "evalue": "invalid syntax (1484778781.py, line 1)",
     "output_type": "error",
     "traceback": [
      "\u001b[1;36m  Cell \u001b[1;32mIn[8], line 1\u001b[1;36m\u001b[0m\n\u001b[1;33m    add num = 12\u001b[0m\n\u001b[1;37m        ^\u001b[0m\n\u001b[1;31mSyntaxError\u001b[0m\u001b[1;31m:\u001b[0m invalid syntax\n"
     ]
    }
   ],
   "source": [
    "add num = 12"
   ]
  },
  {
   "cell_type": "code",
   "execution_count": 7,
   "id": "37793199",
   "metadata": {},
   "outputs": [
    {
     "ename": "SyntaxError",
     "evalue": "invalid syntax. Maybe you meant '==' or ':=' instead of '='? (4158351565.py, line 1)",
     "output_type": "error",
     "traceback": [
      "\u001b[1;36m  Cell \u001b[1;32mIn[7], line 1\u001b[1;36m\u001b[0m\n\u001b[1;33m    @sdhs = 12\u001b[0m\n\u001b[1;37m     ^\u001b[0m\n\u001b[1;31mSyntaxError\u001b[0m\u001b[1;31m:\u001b[0m invalid syntax. Maybe you meant '==' or ':=' instead of '='?\n"
     ]
    }
   ],
   "source": []
  },
  {
   "cell_type": "code",
   "execution_count": 1,
   "id": "f2448372",
   "metadata": {},
   "outputs": [],
   "source": [
    "Name_1 = 10"
   ]
  },
  {
   "cell_type": "code",
   "execution_count": 2,
   "id": "1aef3020",
   "metadata": {},
   "outputs": [
    {
     "ename": "SyntaxError",
     "evalue": "invalid syntax. Maybe you meant '==' or ':=' instead of '='? (4261589966.py, line 1)",
     "output_type": "error",
     "traceback": [
      "\u001b[1;36m  Cell \u001b[1;32mIn[2], line 1\u001b[1;36m\u001b[0m\n\u001b[1;33m    @name = 10\u001b[0m\n\u001b[1;37m     ^\u001b[0m\n\u001b[1;31mSyntaxError\u001b[0m\u001b[1;31m:\u001b[0m invalid syntax. Maybe you meant '==' or ':=' instead of '='?\n"
     ]
    }
   ],
   "source": [
    "@name = 10"
   ]
  },
  {
   "cell_type": "code",
   "execution_count": 3,
   "id": "e9fdd5c6",
   "metadata": {},
   "outputs": [
    {
     "ename": "SyntaxError",
     "evalue": "invalid decimal literal (2956832836.py, line 1)",
     "output_type": "error",
     "traceback": [
      "\u001b[1;36m  Cell \u001b[1;32mIn[3], line 1\u001b[1;36m\u001b[0m\n\u001b[1;33m    12sa = 10\u001b[0m\n\u001b[1;37m     ^\u001b[0m\n\u001b[1;31mSyntaxError\u001b[0m\u001b[1;31m:\u001b[0m invalid decimal literal\n"
     ]
    }
   ],
   "source": [
    "12sa = 10"
   ]
  },
  {
   "cell_type": "code",
   "execution_count": 4,
   "id": "1bdf47e0",
   "metadata": {},
   "outputs": [
    {
     "ename": "SyntaxError",
     "evalue": "invalid syntax (2642840888.py, line 1)",
     "output_type": "error",
     "traceback": [
      "\u001b[1;36m  Cell \u001b[1;32mIn[4], line 1\u001b[1;36m\u001b[0m\n\u001b[1;33m    num sum = 12\u001b[0m\n\u001b[1;37m        ^\u001b[0m\n\u001b[1;31mSyntaxError\u001b[0m\u001b[1;31m:\u001b[0m invalid syntax\n"
     ]
    }
   ],
   "source": [
    "num sum = 12"
   ]
  },
  {
   "cell_type": "code",
   "execution_count": 5,
   "id": "9c82bdb4",
   "metadata": {},
   "outputs": [],
   "source": [
    "num = 10"
   ]
  },
  {
   "cell_type": "code",
   "execution_count": 6,
   "id": "4c4d3410",
   "metadata": {},
   "outputs": [],
   "source": [
    "Num_1 =10"
   ]
  },
  {
   "cell_type": "code",
   "execution_count": 7,
   "id": "01459bdf",
   "metadata": {},
   "outputs": [
    {
     "ename": "SyntaxError",
     "evalue": "invalid syntax (1022871252.py, line 1)",
     "output_type": "error",
     "traceback": [
      "\u001b[1;36m  Cell \u001b[1;32mIn[7], line 1\u001b[1;36m\u001b[0m\n\u001b[1;33m    num 1\u001b[0m\n\u001b[1;37m        ^\u001b[0m\n\u001b[1;31mSyntaxError\u001b[0m\u001b[1;31m:\u001b[0m invalid syntax\n"
     ]
    }
   ],
   "source": [
    "num 1"
   ]
  },
  {
   "cell_type": "code",
   "execution_count": null,
   "id": "656b3934",
   "metadata": {},
   "outputs": [],
   "source": []
  }
 ],
 "metadata": {
  "kernelspec": {
   "display_name": "Python 3 (ipykernel)",
   "language": "python",
   "name": "python3"
  },
  "language_info": {
   "codemirror_mode": {
    "name": "ipython",
    "version": 3
   },
   "file_extension": ".py",
   "mimetype": "text/x-python",
   "name": "python",
   "nbconvert_exporter": "python",
   "pygments_lexer": "ipython3",
   "version": "3.11.4"
  }
 },
 "nbformat": 4,
 "nbformat_minor": 5
}

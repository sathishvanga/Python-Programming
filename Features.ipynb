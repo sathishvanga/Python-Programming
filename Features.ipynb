{
 "cells": [
  {
   "cell_type": "markdown",
   "id": "6d34615f",
   "metadata": {},
   "source": [
    "# Python Features"
   ]
  },
  {
   "cell_type": "markdown",
   "id": "2c5943b6",
   "metadata": {},
   "source": [
    "* Simple and Easy to Learn\n",
    "* Open Source\n",
    "* Interpreted Language\n",
    "* Platform Independent\n",
    "* Dynamic Type\n",
    "* Rich Library\n",
    "* High Level Programming Language\n",
    "* Function Oriented and Object Oriented"
   ]
  },
  {
   "cell_type": "markdown",
   "id": "310ed8ea",
   "metadata": {},
   "source": [
    "### 1.Simple and Easy to Learn"
   ]
  },
  {
   "cell_type": "markdown",
   "id": "f9fec085",
   "metadata": {},
   "source": [
    "* Python language is a Human readable Language\n",
    "* Python Language is understandable language"
   ]
  },
  {
   "cell_type": "markdown",
   "id": "54c47569",
   "metadata": {},
   "source": [
    "### 2.Open Source"
   ]
  },
  {
   "cell_type": "markdown",
   "id": "942f12bc",
   "metadata": {},
   "source": [
    "* Open source means the source code of python is available \n",
    "* It is free to use or Free to download"
   ]
  },
  {
   "cell_type": "markdown",
   "id": "dee5dbef",
   "metadata": {},
   "source": [
    "### 3.Interpreted Language"
   ]
  },
  {
   "cell_type": "markdown",
   "id": "4e217a22",
   "metadata": {},
   "source": [
    "* Interpreted means the code excuted line by line\n",
    "* but complier excutes the whole code at one time"
   ]
  },
  {
   "cell_type": "markdown",
   "id": "95c7c18b",
   "metadata": {},
   "source": [
    "### 4.Platform Independent"
   ]
  },
  {
   "cell_type": "markdown",
   "id": "69dfe4e2",
   "metadata": {},
   "source": [
    "* Platform independent means we can install python in any OS (like Linux, Mac OS,Android,Ubantu,and Windows etc,.)"
   ]
  },
  {
   "cell_type": "markdown",
   "id": "928b0bd0",
   "metadata": {},
   "source": [
    "### 5.Dynamic Type"
   ]
  },
  {
   "cell_type": "markdown",
   "id": "bff9ed6c",
   "metadata": {},
   "source": [
    "* Not require to specify the datatype explicitly.\n",
    "* During run time, we can change the datatype.\n",
    "* In static\n",
    "  * Need to specify datatype before assigning the value.\n"
   ]
  },
  {
   "cell_type": "markdown",
   "id": "ab880ed0",
   "metadata": {},
   "source": [
    "### 6.Rich Library"
   ]
  },
  {
   "cell_type": "markdown",
   "id": "099f846b",
   "metadata": {},
   "source": [
    "* Python have so many Libraries \n",
    "* For Data Science\n",
    "    * Pandas\n",
    "    * Numpy\n",
    "    * Matplotlib\n",
    "    * Seaborn etc,."
   ]
  },
  {
   "cell_type": "code",
   "execution_count": 1,
   "id": "a4fb2d7e",
   "metadata": {},
   "outputs": [],
   "source": [
    "a = 10"
   ]
  },
  {
   "cell_type": "code",
   "execution_count": 2,
   "id": "a35da461",
   "metadata": {},
   "outputs": [
    {
     "data": {
      "text/plain": [
       "'10'"
      ]
     },
     "execution_count": 2,
     "metadata": {},
     "output_type": "execute_result"
    }
   ],
   "source": [
    "str(a)"
   ]
  },
  {
   "cell_type": "code",
   "execution_count": 3,
   "id": "cdbae435",
   "metadata": {},
   "outputs": [
    {
     "data": {
      "text/plain": [
       "10.0"
      ]
     },
     "execution_count": 3,
     "metadata": {},
     "output_type": "execute_result"
    }
   ],
   "source": [
    "float(10)"
   ]
  },
  {
   "cell_type": "code",
   "execution_count": null,
   "id": "7c7c3780",
   "metadata": {},
   "outputs": [],
   "source": []
  }
 ],
 "metadata": {
  "kernelspec": {
   "display_name": "Python 3 (ipykernel)",
   "language": "python",
   "name": "python3"
  },
  "language_info": {
   "codemirror_mode": {
    "name": "ipython",
    "version": 3
   },
   "file_extension": ".py",
   "mimetype": "text/x-python",
   "name": "python",
   "nbconvert_exporter": "python",
   "pygments_lexer": "ipython3",
   "version": "3.11.4"
  }
 },
 "nbformat": 4,
 "nbformat_minor": 5
}
